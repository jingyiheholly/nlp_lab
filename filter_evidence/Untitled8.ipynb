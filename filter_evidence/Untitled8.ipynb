{
 "cells": [
  {
   "cell_type": "code",
   "execution_count": 15,
   "id": "4ff1d6d4",
   "metadata": {},
   "outputs": [],
   "source": [
    "import pickle\n",
    "with open(\"E:\\\\testset_filtered_data.pickle\", 'rb') as file:\n",
    "    test_result = pickle.load(file)\n",
    "count_neg=0\n",
    "count_num1=0\n",
    "count_conj=0\n",
    "count_exi=0\n",
    "count_mul=0\n",
    "sum_neg=0\n",
    "sum_num1=0\n",
    "sum_conj=0\n",
    "sum_exi=0\n",
    "sum_mul=0\n",
    "for claims, information in test_result.items():\n",
    "    if information['reasoning_types']==['negation']:\n",
    "        sum_neg+=1\n",
    "        if information.get('evidence_filtered', {}) == {}:\n",
    "            count_neg+=1\n",
    "    if information['reasoning_types']==['one-hop']:\n",
    "        sum_num1+=1\n",
    "        if information.get('evidence_filtered', {}) == {}:\n",
    "            count_num1+=1\n",
    "    if information['reasoning_types']==['conjuction']:\n",
    "        sum_conj+=1\n",
    "        if information.get('evidence_filtered', {}) == {}:\n",
    "            count_conj+=1\n",
    "    if information['reasoning_types']==['existence']:\n",
    "        sum_exi+=1\n",
    "        if information.get('evidence_filtered', {}) == {}:\n",
    "            count_exi+=1\n",
    "    if information['reasoning_types']==['multi hop']:\n",
    "        sum_mul+=1\n",
    "        if information.get('evidence_filtered', {}) == {}:\n",
    "            count_mul+=1\n",
    "            \n",
    "    "
   ]
  },
  {
   "cell_type": "code",
   "execution_count": 7,
   "id": "e90ba0a1",
   "metadata": {},
   "outputs": [],
   "source": [
    "import pickle\n",
    "with open(\"E:\\\\testset_filtered_data.pickle\", 'rb') as file:\n",
    "    test_result = pickle.load(file)\n",
    "entity_for_check=[]\n",
    "i=0\n",
    "for claim, information in test_result.items():\n",
    "    if i<1000:\n",
    "        for entity in information['entity_set']:\n",
    "            entity_for_check.append(entity)\n",
    "        i+=1\n",
    "    else:\n",
    "        break"
   ]
  },
  {
   "cell_type": "code",
   "execution_count": 16,
   "id": "9a1e2ca1",
   "metadata": {
    "scrolled": true
   },
   "outputs": [
    {
     "name": "stdout",
     "output_type": "stream",
     "text": [
      "207\n",
      "138\n",
      "294\n",
      "240\n",
      "465\n",
      "1314\n",
      "1914\n",
      "3069\n",
      "870\n",
      "1874\n"
     ]
    }
   ],
   "source": [
    "print(count_neg)\n",
    "print(count_num1)\n",
    "print(count_conj)\n",
    "print(count_exi)\n",
    "print(count_mul)\n",
    "print(sum_neg)\n",
    "print(sum_num1)\n",
    "print(sum_conj)\n",
    "print(sum_exi)\n",
    "print(sum_mul)"
   ]
  },
  {
   "cell_type": "code",
   "execution_count": 18,
   "id": "ae5d6fa3",
   "metadata": {},
   "outputs": [
    {
     "name": "stdout",
     "output_type": "stream",
     "text": [
      "0.15753424657534246\n",
      "0.07210031347962383\n",
      "0.09579667644183773\n",
      "0.27586206896551724\n",
      "0.24813233724653147\n"
     ]
    }
   ],
   "source": [
    "print(count_neg/sum_neg)\n",
    "print(count_num1/sum_num1)\n",
    "print(count_conj/sum_conj)\n",
    "print(count_exi/sum_exi)\n",
    "print(count_mul/sum_mul)"
   ]
  },
  {
   "cell_type": "code",
   "execution_count": 17,
   "id": "04a0682f",
   "metadata": {},
   "outputs": [
    {
     "name": "stdout",
     "output_type": "stream",
     "text": [
      "9041\n"
     ]
    }
   ],
   "source": [
    "with open(\"E:\\\\factkg_test.pickle\", 'rb') as file:\n",
    "    test_dataset = pickle.load(file)\n",
    "print(len(test_dataset))"
   ]
  },
  {
   "cell_type": "code",
   "execution_count": 2,
   "id": "16f4ceb1",
   "metadata": {},
   "outputs": [
    {
     "name": "stdout",
     "output_type": "stream",
     "text": [
      "Processed content has been saved to E:\\processed_keys.txt\n"
     ]
    }
   ],
   "source": [
    "# Define input and output file paths\n",
    "input_file = \"E:\\\\keys.txt\"  # Replace with your input file name\n",
    "output_file = \"E:\\\\processed_keys.txt\" # Replace with your desired output file name\n",
    "\n",
    "# Open the input file with the correct encoding and process each line\n",
    "with open(input_file, \"r\", encoding=\"utf-8\") as infile:  # Adjust encoding if needed\n",
    "    lines = infile.readlines()\n",
    "\n",
    "# Extract text after \":\" from each line\n",
    "processed_lines = [line.split(\":\", 1)[-1].strip() for line in lines if \":\" in line]\n",
    "\n",
    "# Write the processed lines to the output file\n",
    "with open(output_file, \"w\", encoding=\"utf-8\") as outfile:\n",
    "    outfile.write(\"\\n\".join(processed_lines))\n",
    "\n",
    "print(f\"Processed content has been saved to {output_file}\")\n"
   ]
  },
  {
   "cell_type": "code",
   "execution_count": 8,
   "id": "a96df766",
   "metadata": {},
   "outputs": [
    {
     "name": "stdout",
     "output_type": "stream",
     "text": [
      "1241\n",
      "384\n"
     ]
    }
   ],
   "source": [
    "import pandas as pd\n",
    "\n",
    "# Define the file path and the entity to check\n",
    "file_path = \"E:\\\\unique_entities.csv\"  # Replace with your file path\n",
    "  # Replace with the entity you want to check\n",
    "\n",
    "# Read the CSV file and select the 'Entity' column\n",
    "df = pd.read_csv(file_path)\n",
    "m=0\n",
    "n=0\n",
    "# Check if the column 'Entity' exists\n",
    "if 'Entity' in df.columns:\n",
    "    for entity in entity_for_check:\n",
    "        entity_exists = entity in df['Entity'].values\n",
    "    \n",
    "        if entity_exists:\n",
    "            m+=1\n",
    "        #print(f\"Entity '{entity_to_check}' exists in the column 'Entity'.\")\n",
    "        else:\n",
    "            n+=1\n",
    "        #print(f\"Entity '{entity_to_check}' does not exist in the column 'Entity'.\")\n",
    "else:\n",
    "    print(\"The column 'Entity' does not exist in the CSV file.\")\n",
    "print(m)\n",
    "print(n)"
   ]
  },
  {
   "cell_type": "code",
   "execution_count": null,
   "id": "93b7c748",
   "metadata": {},
   "outputs": [],
   "source": []
  }
 ],
 "metadata": {
  "kernelspec": {
   "display_name": "Python (pyg_env)",
   "language": "python",
   "name": "pyg_env"
  },
  "language_info": {
   "codemirror_mode": {
    "name": "ipython",
    "version": 3
   },
   "file_extension": ".py",
   "mimetype": "text/x-python",
   "name": "python",
   "nbconvert_exporter": "python",
   "pygments_lexer": "ipython3",
   "version": "3.9.20"
  }
 },
 "nbformat": 4,
 "nbformat_minor": 5
}
