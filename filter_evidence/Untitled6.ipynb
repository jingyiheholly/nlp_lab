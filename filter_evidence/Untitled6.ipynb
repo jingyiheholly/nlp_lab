{
 "cells": [
  {
   "cell_type": "code",
   "execution_count": null,
   "id": "19f20521",
   "metadata": {},
   "outputs": [],
   "source": [
    "import gzip\n",
    "\n",
    "# Define the file path\n",
    "file_path = \"D:\\\\db2vec_sg_500_8.txt.gz\"\n",
    "\n",
    "try:\n",
    "    # Open the .gz file\n",
    "    with gzip.open(file_path, 'rt', encoding='utf-8') as f:\n",
    "        # Read the first 10 lines\n",
    "        for i, line in enumerate(f):\n",
    "            print(line.strip().split(' ')[0])\n",
    "            if i >= 1000:  # Stop after 10 lines\n",
    "                break\n",
    "except FileNotFoundError:\n",
    "    print(f\"File not found: {file_path}\")\n",
    "except Exception as e:\n",
    "    print(f\"An error occurred: {e}\")\n"
   ]
  },
  {
   "cell_type": "code",
   "execution_count": null,
   "id": "f0bc0390",
   "metadata": {},
   "outputs": [],
   "source": [
    "import gzip\n",
    "\n",
    "# Define the file path and output files\n",
    "file_path = \"D:\\\\db2vec_sg_500_8.txt.gz\"\n",
    "output_file_keys = \"E:\\\\keys.txt\"\n",
    "output_file_vectors = \"E:\\\\vectors.txt\"\n",
    "\n",
    "try:\n",
    "    # Open the .gz file and output files\n",
    "    with gzip.open(file_path, 'rt', encoding='utf-8') as f, \\\n",
    "         open(output_file_keys, 'w', encoding='utf-8') as keys_file, \\\n",
    "         open(output_file_vectors, 'w', encoding='utf-8') as vectors_file:\n",
    "\n",
    "        # Process each line\n",
    "        for i, line in enumerate(f):\n",
    "            parts = line.strip().split(' ')\n",
    "            if len(parts) > 1:\n",
    "                # Write the key to the keys file\n",
    "                keys_file.write(parts[0] + '\\n')\n",
    "                # Write the vector to the vectors file\n",
    "                vectors_file.write(' '.join(parts[1:]) + '\\n')\n",
    "\n",
    "    print(\"Processing complete. Keys and vectors have been written to separate files.\")\n",
    "\n",
    "except FileNotFoundError:\n",
    "    print(f\"File not found: {file_path}\")\n",
    "except Exception as e:\n",
    "    print(f\"An error occurred: {e}\")\n"
   ]
  },
  {
   "cell_type": "code",
   "execution_count": null,
   "id": "d363c47c",
   "metadata": {},
   "outputs": [],
   "source": [
    "import pickle\n",
    "\n",
    "# Path to the pickle file\n",
    "file_path = \"D:\\\\dbpedia_2015_undirected_light.pickle\"\n",
    "\n",
    "# Load the pickle file\n",
    "try:\n",
    "    with open(file_path, 'rb') as f:\n",
    "        dbpedia = pickle.load(f)\n",
    "    \n",
    "    # List all entities in the KG\n",
    "    entities = list(dbpedia)\n",
    "    print(f\"Number of entities in the KG: {len(entities)}\")\n",
    "    print(\"Example entities:\", entities[:10])  # Display the first 10 entities\n",
    "    \n",
    "    # Example: List relations connected to a specific entity\n",
    "    example_entity = entities[0]  # Pick the first entity as an example\n",
    "    relations = list(dbpedia[example_entity])\n",
    "    print(f\"\\nRelations for the entity '{example_entity}':\", relations)\n",
    "    \n",
    "    # Example: List tails connected to the entity with a specific relation\n",
    "    if relations:\n",
    "        example_relation = relations[0]\n",
    "        tails = dbpedia[example_entity][example_relation]\n",
    "        print(f\"\\nTails for relation '{example_relation}' of entity '{example_entity}':\", tails)\n",
    "    \n",
    "except FileNotFoundError:\n",
    "    print(f\"File not found: {file_path}\")\n",
    "except Exception as e:\n",
    "    print(f\"An error occurred: {e}\")\n"
   ]
  },
  {
   "cell_type": "code",
   "execution_count": 1,
   "id": "d5663e6f",
   "metadata": {},
   "outputs": [
    {
     "name": "stdout",
     "output_type": "stream",
     "text": [
      "Entities and relations have been written to separate files.\n"
     ]
    }
   ],
   "source": [
    "import pickle\n",
    "\n",
    "# Path to the pickle file\n",
    "file_path = \"D:\\\\dbpedia_2015_undirected_light.pickle\"\n",
    "entities_file = \"E:\\\\entities.txt\"\n",
    "relations_file = \"E:\\\\relations.txt\"\n",
    "\n",
    "try:\n",
    "    # Load the pickle file\n",
    "    with open(file_path, 'rb') as f:\n",
    "        dbpedia = pickle.load(f)\n",
    "    \n",
    "    # Write all entities to a file\n",
    "    with open(entities_file, 'w', encoding='utf-8') as ef:\n",
    "        for entity in dbpedia:\n",
    "            ef.write(entity + '\\n')\n",
    "    \n",
    "    # Write all relations to a file\n",
    "    with open(relations_file, 'w', encoding='utf-8') as rf:\n",
    "        for entity, relations_dict in dbpedia.items():\n",
    "            for relation in relations_dict:\n",
    "                rf.write(f\"{entity}\\t{relation}\\n\")\n",
    "\n",
    "    print(\"Entities and relations have been written to separate files.\")\n",
    "\n",
    "except FileNotFoundError:\n",
    "    print(f\"File not found: {file_path}\")\n",
    "except Exception as e:\n",
    "    print(f\"An error occurred: {e}\")\n"
   ]
  },
  {
   "cell_type": "code",
   "execution_count": null,
   "id": "a40c25cf",
   "metadata": {},
   "outputs": [],
   "source": [
    "example_entity = entities[100]  # Pick the first entity as an example\n",
    "relations = list(dbpedia[example_entity])\n",
    "print(f\"\\nRelations for the entity '{example_entity}':\", relations)\n",
    "    \n",
    "    # Example: List tails connected to the entity with a specific relation\n",
    "if relations:\n",
    "    example_relation = relations[0]\n",
    "    tails = dbpedia[example_entity][example_relation]\n",
    "    print(f\"\\nTails for relation '{example_relation}' of entity '{example_entity}':\", tails)\n",
    "    "
   ]
  },
  {
   "cell_type": "code",
   "execution_count": null,
   "id": "d158644d",
   "metadata": {},
   "outputs": [],
   "source": []
  }
 ],
 "metadata": {
  "kernelspec": {
   "display_name": "Python (pyg_env)",
   "language": "python",
   "name": "pyg_env"
  },
  "language_info": {
   "codemirror_mode": {
    "name": "ipython",
    "version": 3
   },
   "file_extension": ".py",
   "mimetype": "text/x-python",
   "name": "python",
   "nbconvert_exporter": "python",
   "pygments_lexer": "ipython3",
   "version": "3.9.20"
  }
 },
 "nbformat": 4,
 "nbformat_minor": 5
}
