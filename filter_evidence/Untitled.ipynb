{
 "cells": [
  {
   "cell_type": "code",
   "execution_count": 1,
   "id": "465d2e90",
   "metadata": {},
   "outputs": [],
   "source": [
    "import argparse\n",
    "\n",
    "import matplotlib.pyplot as plt\n",
    "import matplotlib.transforms as T\n",
    "import numpy as np\n",
    "\n",
    "# Some magic\n",
    "m=np.sin\n",
    "D=np.cos\n",
    "O=np.stack\n",
    "N=np.radians\n",
    "w=np.array\n",
    "\n",
    "def parse_line(line):\n",
    "    clean_line = line.replace(\"\\n\", \"\")\n",
    "    point_values = clean_line.split(\" \")\n",
    "    points = [float(p) for p in point_values]\n",
    "\n",
    "    return points\n",
    "\n",
    "\n",
    "def read_points(file_path):\n",
    "    with open(file_path) as f:\n",
    "        lines = f.readlines()\n",
    "        points = [parse_line(l) for l in lines]\n",
    "\n",
    "    points_x, points_y = zip(*points)\n",
    "\n",
    "    return np.array(list(points_x)), np.array(list(points_y))\n",
    "\n",
    "\n",
    "def transform_points(x, y, a, b, c):\n",
    "    d=N(-a)\n",
    "    W=O((x,y),axis=-1).dot(w(((D(d),-m(d)),(m(d),D(d)))))+w([b,c])\n",
    "    return W[:,0],W[:,1]\n",
    "\n",
    "\n",
    "def main(data_path,deg,tx,ty):\n",
    "    x_0, y_0 = transform_points(*(read_points(data_path + \"/points_dragon_1.txt\")), deg, tx, ty)\n",
    "    x_1, y_1 = read_points(data_path + \"/points_dragon_2.txt\")\n",
    "\n",
    "    fig, ax = plt.subplots()\n",
    "    image = plt.imread(data_path + \"/dragon.png\")\n",
    "\n",
    "    image = np.flipud(image)\n",
    "    plt.axis([-600, 2000, -500, 1200])\n",
    "    im = plt.imshow(image, origin=\"lower\", alpha=0.6)\n",
    "    center = T.Affine2D().translate(-image.shape[1] / 2, -image.shape[0] / 2)\n",
    "    trans_data = center + ax.transData\n",
    "    im.set_transform(trans_data)\n",
    "\n",
    "    im2 = plt.imshow(image, origin=\"lower\", alpha=0.6)\n",
    "    trans_data2 = center.rotate_deg(deg).translate(tx, ty) + ax.transData\n",
    "    im2.set_transform(trans_data2)\n",
    "\n",
    "    plt.scatter(x_0, y_0, s=3, c=\"b\")\n",
    "    plt.scatter(x_1, y_1, s=3, c=\"r\")\n",
    "\n",
    "    for px_0, py_0, px_1, py_1 in zip(x_0, y_0, x_1, y_1):\n",
    "        plt.plot([px_0, px_1], [py_0, py_1], c=\"g\", alpha=0.1)\n",
    "\n",
    "    plt.show()"
   ]
  },
  {
   "cell_type": "code",
   "execution_count": 2,
   "id": "2f6e3005",
   "metadata": {},
   "outputs": [
    {
     "name": "stderr",
     "output_type": "stream",
     "text": [
      "usage: ipykernel_launcher.py [-h] [--data_path DATA_PATH] [--deg DEG]\n",
      "                             [--tx TX] [--ty TY]\n",
      "ipykernel_launcher.py: error: unrecognized arguments: -f C:\\Users\\15442\\AppData\\Roaming\\jupyter\\runtime\\kernel-72b43efc-3ee4-4034-b795-2e7035b4ec7c.json\n"
     ]
    },
    {
     "ename": "SystemExit",
     "evalue": "2",
     "output_type": "error",
     "traceback": [
      "An exception has occurred, use %tb to see the full traceback.\n",
      "\u001b[1;31mSystemExit\u001b[0m\u001b[1;31m:\u001b[0m 2\n"
     ]
    },
    {
     "name": "stderr",
     "output_type": "stream",
     "text": [
      "D:\\Anaconda\\envs\\py37\\lib\\site-packages\\IPython\\core\\interactiveshell.py:3560: UserWarning: To exit: use 'exit', 'quit', or Ctrl-D.\n",
      "  warn(\"To exit: use 'exit', 'quit', or Ctrl-D.\", stacklevel=1)\n"
     ]
    }
   ],
   "source": [
    "data_path=\"../Data\"\n",
    "deg=15.469\n",
    "tx=1315.2\n",
    "ty=0\n",
    "main()"
   ]
  },
  {
   "cell_type": "code",
   "execution_count": null,
   "id": "17ef8e74",
   "metadata": {},
   "outputs": [],
   "source": []
  }
 ],
 "metadata": {
  "kernelspec": {
   "display_name": "py37",
   "language": "python",
   "name": "py37"
  },
  "language_info": {
   "codemirror_mode": {
    "name": "ipython",
    "version": 3
   },
   "file_extension": ".py",
   "mimetype": "text/x-python",
   "name": "python",
   "nbconvert_exporter": "python",
   "pygments_lexer": "ipython3",
   "version": "3.7.11"
  }
 },
 "nbformat": 4,
 "nbformat_minor": 5
}
